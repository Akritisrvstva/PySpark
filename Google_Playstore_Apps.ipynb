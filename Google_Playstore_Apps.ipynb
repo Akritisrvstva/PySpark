{
  "nbformat": 4,
  "nbformat_minor": 0,
  "metadata": {
    "colab": {
      "provenance": []
    },
    "kernelspec": {
      "name": "python3",
      "display_name": "Python 3"
    },
    "language_info": {
      "name": "python"
    }
  },
  "cells": [
    {
      "cell_type": "code",
      "source": [
        "!pip install pyspark"
      ],
      "metadata": {
        "colab": {
          "base_uri": "https://localhost:8080/"
        },
        "id": "q8PBAX7P1Jxw",
        "outputId": "18e63d4f-cc86-4d10-81d4-464c8caf504e"
      },
      "execution_count": 3,
      "outputs": [
        {
          "output_type": "stream",
          "name": "stdout",
          "text": [
            "Collecting pyspark\n",
            "  Downloading pyspark-3.4.1.tar.gz (310.8 MB)\n",
            "\u001b[2K     \u001b[90m━━━━━━━━━━━━━━━━━━━━━━━━━━━━━━━━━━━━━━━\u001b[0m \u001b[32m310.8/310.8 MB\u001b[0m \u001b[31m2.2 MB/s\u001b[0m eta \u001b[36m0:00:00\u001b[0m\n",
            "\u001b[?25h  Preparing metadata (setup.py) ... \u001b[?25l\u001b[?25hdone\n",
            "Requirement already satisfied: py4j==0.10.9.7 in /usr/local/lib/python3.10/dist-packages (from pyspark) (0.10.9.7)\n",
            "Building wheels for collected packages: pyspark\n",
            "  Building wheel for pyspark (setup.py) ... \u001b[?25l\u001b[?25hdone\n",
            "  Created wheel for pyspark: filename=pyspark-3.4.1-py2.py3-none-any.whl size=311285397 sha256=c5c8e0e5693c1b8f72641552f2aae8975bfb8f86b9cdc33a9cdab674561a2063\n",
            "  Stored in directory: /root/.cache/pip/wheels/0d/77/a3/ff2f74cc9ab41f8f594dabf0579c2a7c6de920d584206e0834\n",
            "Successfully built pyspark\n",
            "Installing collected packages: pyspark\n",
            "Successfully installed pyspark-3.4.1\n"
          ]
        }
      ]
    },
    {
      "cell_type": "markdown",
      "source": [
        "# **Importing the Libraries**"
      ],
      "metadata": {
        "id": "O_AJC_2s2L-H"
      }
    },
    {
      "cell_type": "code",
      "execution_count": 9,
      "metadata": {
        "id": "v6yX8daCxYDZ"
      },
      "outputs": [],
      "source": [
        "from pyspark.sql import SparkSession\n",
        "from pyspark.sql.types import StructType, StructField, StringType,IntegerType\n",
        "from pyspark.sql.functions import *"
      ]
    },
    {
      "cell_type": "code",
      "source": [
        "from pyspark.sql.window import Window\n",
        "import pyspark.sql.functions as F"
      ],
      "metadata": {
        "id": "E44Z-9uI-9TT"
      },
      "execution_count": 24,
      "outputs": []
    },
    {
      "cell_type": "code",
      "source": [
        "from pyspark.sql.types import FloatType"
      ],
      "metadata": {
        "id": "cCnqv9l1Bh2e"
      },
      "execution_count": 32,
      "outputs": []
    },
    {
      "cell_type": "markdown",
      "source": [
        "# **Create a SparkSession**"
      ],
      "metadata": {
        "id": "4gUURGP0Bz8o"
      }
    },
    {
      "cell_type": "code",
      "source": [
        "spark = SparkSession.builder.appName(\"GooglePlayStoreAnalysis\").getOrCreate()"
      ],
      "metadata": {
        "id": "JKlCvibp7EIa"
      },
      "execution_count": 13,
      "outputs": []
    },
    {
      "cell_type": "markdown",
      "source": [
        "# **Creating the dataframe**"
      ],
      "metadata": {
        "id": "VOYsFzHE2p80"
      }
    },
    {
      "cell_type": "code",
      "source": [
        "# Load the Google Play Store dataset\n",
        "data_path = \"/content/googleplaystore.csv\"\n",
        "df = spark.read.csv(data_path, header=True, inferSchema=True)"
      ],
      "metadata": {
        "id": "tlV_63Eo7JJ7"
      },
      "execution_count": 14,
      "outputs": []
    },
    {
      "cell_type": "markdown",
      "source": [
        "# **Check the schema and the first few rows of the DataFrame**"
      ],
      "metadata": {
        "id": "9lbwxWCjB4Og"
      }
    },
    {
      "cell_type": "code",
      "source": [
        "df.printSchema()\n",
        "df.show(5)"
      ],
      "metadata": {
        "colab": {
          "base_uri": "https://localhost:8080/"
        },
        "id": "AVZ6MXLIxdvq",
        "outputId": "655ac183-581d-4577-bc45-9c69f03acfab"
      },
      "execution_count": 15,
      "outputs": [
        {
          "output_type": "stream",
          "name": "stdout",
          "text": [
            "root\n",
            " |-- App: string (nullable = true)\n",
            " |-- Category: string (nullable = true)\n",
            " |-- Rating: string (nullable = true)\n",
            " |-- Reviews: string (nullable = true)\n",
            " |-- Size: string (nullable = true)\n",
            " |-- Installs: string (nullable = true)\n",
            " |-- Type: string (nullable = true)\n",
            " |-- Price: string (nullable = true)\n",
            " |-- Content Rating: string (nullable = true)\n",
            " |-- Genres: string (nullable = true)\n",
            " |-- Last Updated: string (nullable = true)\n",
            " |-- Current Ver: string (nullable = true)\n",
            " |-- Android Ver: string (nullable = true)\n",
            "\n",
            "+--------------------+--------------+------+-------+----+-----------+----+-----+--------------+--------------------+----------------+------------------+------------+\n",
            "|                 App|      Category|Rating|Reviews|Size|   Installs|Type|Price|Content Rating|              Genres|    Last Updated|       Current Ver| Android Ver|\n",
            "+--------------------+--------------+------+-------+----+-----------+----+-----+--------------+--------------------+----------------+------------------+------------+\n",
            "|Photo Editor & Ca...|ART_AND_DESIGN|   4.1|    159| 19M|    10,000+|Free|    0|      Everyone|        Art & Design| January 7, 2018|             1.0.0|4.0.3 and up|\n",
            "| Coloring book moana|ART_AND_DESIGN|   3.9|    967| 14M|   500,000+|Free|    0|      Everyone|Art & Design;Pret...|January 15, 2018|             2.0.0|4.0.3 and up|\n",
            "|U Launcher Lite –...|ART_AND_DESIGN|   4.7|  87510|8.7M| 5,000,000+|Free|    0|      Everyone|        Art & Design|  August 1, 2018|             1.2.4|4.0.3 and up|\n",
            "|Sketch - Draw & P...|ART_AND_DESIGN|   4.5| 215644| 25M|50,000,000+|Free|    0|          Teen|        Art & Design|    June 8, 2018|Varies with device|  4.2 and up|\n",
            "|Pixel Draw - Numb...|ART_AND_DESIGN|   4.3|    967|2.8M|   100,000+|Free|    0|      Everyone|Art & Design;Crea...|   June 20, 2018|               1.1|  4.4 and up|\n",
            "+--------------------+--------------+------+-------+----+-----------+----+-----+--------------+--------------------+----------------+------------------+------------+\n",
            "only showing top 5 rows\n",
            "\n"
          ]
        }
      ]
    },
    {
      "cell_type": "markdown",
      "source": [
        "# **Data Cleaning**"
      ],
      "metadata": {
        "id": "J_J_PMNzB74I"
      }
    },
    {
      "cell_type": "code",
      "source": [
        "df= df.drop(\"size\", \"Content Rating\", \"Last Updated\", \"Android Ver\", \"Current Ver\")"
      ],
      "metadata": {
        "id": "ta4f160dxdyh"
      },
      "execution_count": 16,
      "outputs": []
    },
    {
      "cell_type": "code",
      "source": [
        "df.show(5)"
      ],
      "metadata": {
        "colab": {
          "base_uri": "https://localhost:8080/"
        },
        "id": "_iBdc6j3xd1s",
        "outputId": "d14d6b68-69cc-49b6-b1b1-c133e99fea0c"
      },
      "execution_count": 17,
      "outputs": [
        {
          "output_type": "stream",
          "name": "stdout",
          "text": [
            "+--------------------+--------------+------+-------+-----------+----+-----+--------------------+\n",
            "|                 App|      Category|Rating|Reviews|   Installs|Type|Price|              Genres|\n",
            "+--------------------+--------------+------+-------+-----------+----+-----+--------------------+\n",
            "|Photo Editor & Ca...|ART_AND_DESIGN|   4.1|    159|    10,000+|Free|    0|        Art & Design|\n",
            "| Coloring book moana|ART_AND_DESIGN|   3.9|    967|   500,000+|Free|    0|Art & Design;Pret...|\n",
            "|U Launcher Lite –...|ART_AND_DESIGN|   4.7|  87510| 5,000,000+|Free|    0|        Art & Design|\n",
            "|Sketch - Draw & P...|ART_AND_DESIGN|   4.5| 215644|50,000,000+|Free|    0|        Art & Design|\n",
            "|Pixel Draw - Numb...|ART_AND_DESIGN|   4.3|    967|   100,000+|Free|    0|Art & Design;Crea...|\n",
            "+--------------------+--------------+------+-------+-----------+----+-----+--------------------+\n",
            "only showing top 5 rows\n",
            "\n"
          ]
        }
      ]
    },
    {
      "cell_type": "code",
      "source": [
        "df.printSchema()"
      ],
      "metadata": {
        "colab": {
          "base_uri": "https://localhost:8080/"
        },
        "id": "EwM8JxZlxd37",
        "outputId": "7384bd32-b0c0-4d09-93cd-f2897769d0aa"
      },
      "execution_count": 18,
      "outputs": [
        {
          "output_type": "stream",
          "name": "stdout",
          "text": [
            "root\n",
            " |-- App: string (nullable = true)\n",
            " |-- Category: string (nullable = true)\n",
            " |-- Rating: string (nullable = true)\n",
            " |-- Reviews: string (nullable = true)\n",
            " |-- Installs: string (nullable = true)\n",
            " |-- Type: string (nullable = true)\n",
            " |-- Price: string (nullable = true)\n",
            " |-- Genres: string (nullable = true)\n",
            "\n"
          ]
        }
      ]
    },
    {
      "cell_type": "markdown",
      "source": [
        "# **Coverting the datatype of the columns into required one**"
      ],
      "metadata": {
        "id": "WaD3FyEJCCGW"
      }
    },
    {
      "cell_type": "code",
      "source": [
        "from pyspark.sql.types import IntegerType\n",
        "\n",
        "# Convert 'Rating' column from string to integer\n",
        "df = df.withColumn(\"Rating\", df[\"Rating\"].cast(IntegerType()))\n",
        "\n",
        "# Convert 'Reviews' column from string to integer\n",
        "df = df.withColumn(\"Reviews\", df[\"Reviews\"].cast(IntegerType()))"
      ],
      "metadata": {
        "id": "yrQ-acK2xd_B"
      },
      "execution_count": 19,
      "outputs": []
    },
    {
      "cell_type": "code",
      "source": [
        "df.printSchema()"
      ],
      "metadata": {
        "colab": {
          "base_uri": "https://localhost:8080/"
        },
        "id": "RGCpZ0BUxeAz",
        "outputId": "303b61a7-5ebc-4535-f9d7-3ce1ab070967"
      },
      "execution_count": 20,
      "outputs": [
        {
          "output_type": "stream",
          "name": "stdout",
          "text": [
            "root\n",
            " |-- App: string (nullable = true)\n",
            " |-- Category: string (nullable = true)\n",
            " |-- Rating: integer (nullable = true)\n",
            " |-- Reviews: integer (nullable = true)\n",
            " |-- Installs: string (nullable = true)\n",
            " |-- Type: string (nullable = true)\n",
            " |-- Price: string (nullable = true)\n",
            " |-- Genres: string (nullable = true)\n",
            "\n"
          ]
        }
      ]
    },
    {
      "cell_type": "code",
      "source": [
        "df.show(5)"
      ],
      "metadata": {
        "colab": {
          "base_uri": "https://localhost:8080/"
        },
        "id": "ht2R6D60xeCn",
        "outputId": "91f733c4-04d8-4e17-e6b0-d0666a2c6b09"
      },
      "execution_count": 22,
      "outputs": [
        {
          "output_type": "stream",
          "name": "stdout",
          "text": [
            "+--------------------+--------------+------+-------+-----------+----+-----+--------------------+\n",
            "|                 App|      Category|Rating|Reviews|   Installs|Type|Price|              Genres|\n",
            "+--------------------+--------------+------+-------+-----------+----+-----+--------------------+\n",
            "|Photo Editor & Ca...|ART_AND_DESIGN|     4|    159|    10,000+|Free|    0|        Art & Design|\n",
            "| Coloring book moana|ART_AND_DESIGN|     3|    967|   500,000+|Free|    0|Art & Design;Pret...|\n",
            "|U Launcher Lite –...|ART_AND_DESIGN|     4|  87510| 5,000,000+|Free|    0|        Art & Design|\n",
            "|Sketch - Draw & P...|ART_AND_DESIGN|     4| 215644|50,000,000+|Free|    0|        Art & Design|\n",
            "|Pixel Draw - Numb...|ART_AND_DESIGN|     4|    967|   100,000+|Free|    0|Art & Design;Crea...|\n",
            "+--------------------+--------------+------+-------+-----------+----+-----+--------------------+\n",
            "only showing top 5 rows\n",
            "\n"
          ]
        }
      ]
    },
    {
      "cell_type": "markdown",
      "source": [
        "# **Find out the Top 10 Reviews given to the apps**"
      ],
      "metadata": {
        "id": "XTzAdnXdCMze"
      }
    },
    {
      "cell_type": "code",
      "source": [
        "# Use Window function to rank the apps based on reviews\n",
        "windowSpec = Window.orderBy(col(\"Reviews\").desc())\n",
        "\n",
        "# Rank the apps based on reviews\n",
        "df = df.withColumn(\"Rank\", F.rank().over(windowSpec))\n",
        "\n",
        "# Filter the top 10 reviews\n",
        "top_10_reviews = df.filter(col(\"Rank\") <= 10)\n",
        "\n",
        "# Select only the required columns ('App' and 'Reviews')\n",
        "top_10_reviews = top_10_reviews.select(\"App\", \"Reviews\")\n",
        "\n",
        "# Show the top 10 reviews\n",
        "top_10_reviews.show()"
      ],
      "metadata": {
        "colab": {
          "base_uri": "https://localhost:8080/"
        },
        "id": "rwcVO_PwxeH6",
        "outputId": "f452b16c-ad8b-4a1c-9422-e29751b8cb75"
      },
      "execution_count": 25,
      "outputs": [
        {
          "output_type": "stream",
          "name": "stdout",
          "text": [
            "+--------------------+--------+\n",
            "|                 App| Reviews|\n",
            "+--------------------+--------+\n",
            "|            Facebook|78158306|\n",
            "|            Facebook|78128208|\n",
            "|  WhatsApp Messenger|69119316|\n",
            "|  WhatsApp Messenger|69119316|\n",
            "|  WhatsApp Messenger|69109672|\n",
            "|           Instagram|66577446|\n",
            "|           Instagram|66577313|\n",
            "|           Instagram|66577313|\n",
            "|           Instagram|66509917|\n",
            "|Messenger – Text ...|56646578|\n",
            "+--------------------+--------+\n",
            "\n"
          ]
        }
      ]
    },
    {
      "cell_type": "markdown",
      "source": [
        "# Conclusions:\n",
        "\n",
        "1. The code finds the top 10 reviews given to the apps in the Google Play Store dataset.\n",
        "2. It converts the 'Reviews' column from string to integer and then ranks the apps based on the number of reviews.\n",
        "3. The result shows the top 10 apps with the highest number of reviews."
      ],
      "metadata": {
        "id": "0D0MbnFOD5DT"
      }
    },
    {
      "cell_type": "markdown",
      "source": [
        "# **Top 10 installs apps and distribution of type(free/paid)**"
      ],
      "metadata": {
        "id": "4Tqr4UxiC-4S"
      }
    },
    {
      "cell_type": "code",
      "source": [
        "# Convert 'Installs' column from string to integer\n",
        "df = df.withColumn(\"Installs\", F.regexp_replace(col(\"Installs\"), \"[+,]\", \"\").cast(IntegerType()))\n",
        "\n",
        "# Use Window function to rank the apps based on installs\n",
        "windowSpec = Window.orderBy(col(\"Installs\").desc())\n",
        "\n",
        "# Rank the apps based on installs\n",
        "df = df.withColumn(\"Rank\", F.rank().over(windowSpec))\n",
        "\n",
        "# Filter the top 10 installed apps\n",
        "top_10_installed_apps = df.filter(col(\"Rank\") <= 10)\n",
        "\n",
        "# Select only the required columns ('App' and 'Installs')\n",
        "top_10_installed_apps = top_10_installed_apps.select(\"App\", \"Installs\")\n",
        "\n",
        "# Show the top 10 installed apps\n",
        "top_10_installed_apps.show(5)"
      ],
      "metadata": {
        "colab": {
          "base_uri": "https://localhost:8080/"
        },
        "id": "YFphixJqxeKE",
        "outputId": "92e2eb6d-9991-4354-d5b7-2f4029d65779"
      },
      "execution_count": 37,
      "outputs": [
        {
          "output_type": "stream",
          "name": "stdout",
          "text": [
            "+--------------------+----------+\n",
            "|                 App|  Installs|\n",
            "+--------------------+----------+\n",
            "|   Google Play Books|1000000000|\n",
            "|Messenger – Text ...|1000000000|\n",
            "|  WhatsApp Messenger|1000000000|\n",
            "|Google Chrome: Fa...|1000000000|\n",
            "|               Gmail|1000000000|\n",
            "+--------------------+----------+\n",
            "only showing top 5 rows\n",
            "\n"
          ]
        }
      ]
    },
    {
      "cell_type": "code",
      "source": [
        "# Calculate the distribution of app types (free/paid)\n",
        "app_type_distribution = df.groupBy(\"Type\").count()\n",
        "\n",
        "# Show the distribution of app types\n",
        "app_type_distribution.show(5)"
      ],
      "metadata": {
        "colab": {
          "base_uri": "https://localhost:8080/"
        },
        "id": "QfY6EHGdDMHM",
        "outputId": "5122d396-ccb0-4a36-b4bc-c74939e3ead5"
      },
      "execution_count": 36,
      "outputs": [
        {
          "output_type": "stream",
          "name": "stdout",
          "text": [
            "+------+-----+\n",
            "|  Type|count|\n",
            "+------+-----+\n",
            "|     0|    1|\n",
            "|102248|    1|\n",
            "|   NaN|    1|\n",
            "|  Free|10037|\n",
            "|  Paid|  800|\n",
            "+------+-----+\n",
            "only showing top 5 rows\n",
            "\n"
          ]
        }
      ]
    },
    {
      "cell_type": "markdown",
      "source": [
        "# Comclusions:\n",
        "\n",
        "1. The code finds the top 10 installed apps in the Google Play Store dataset.\n",
        "2. It converts the 'Installs' column from string to integer and then ranks the apps based on the number of installs.\n",
        "3. The result shows the top 10 apps with the highest number of installs.\n",
        "4. Additionally, the code calculates the distribution of app types (free and paid) in the dataset."
      ],
      "metadata": {
        "id": "WmKSHnFOEC_T"
      }
    },
    {
      "cell_type": "markdown",
      "source": [
        "# **Category wise distribution of installed apps**"
      ],
      "metadata": {
        "id": "of8az8ISDPis"
      }
    },
    {
      "cell_type": "code",
      "source": [
        "# Calculate the category-wise distribution of installed apps\n",
        "category_wise_distribution = df.groupBy(\"Category\").agg(F.sum(\"Installs\").alias(\"TotalInstalls\"))\n",
        "\n",
        "# Show the category-wise distribution of installed apps\n",
        "category_wise_distribution.show(5)"
      ],
      "metadata": {
        "colab": {
          "base_uri": "https://localhost:8080/"
        },
        "id": "FZWt74_axeMa",
        "outputId": "750d19ac-12fd-451f-aea5-a5ab28ace2e6"
      },
      "execution_count": 28,
      "outputs": [
        {
          "output_type": "stream",
          "name": "stdout",
          "text": [
            "+-------------+-------------+\n",
            "|     Category|TotalInstalls|\n",
            "+-------------+-------------+\n",
            "|       EVENTS|     15973161|\n",
            "|       COMICS|     56086150|\n",
            "|       SPORTS|   1751174498|\n",
            "|      WEATHER|    426100520|\n",
            "|VIDEO_PLAYERS|   6222002720|\n",
            "+-------------+-------------+\n",
            "only showing top 5 rows\n",
            "\n"
          ]
        }
      ]
    },
    {
      "cell_type": "markdown",
      "source": [
        "# Conclusions:\n",
        "\n",
        "1. The code calculates the category-wise distribution of installed apps in the Google Play Store dataset.\n",
        "2. It converts the 'Installs' column from string to integer and groups the apps based on their respective categories.\n",
        "3. The result shows the total number of installs for each category."
      ],
      "metadata": {
        "id": "EjPh0Z64ET9D"
      }
    },
    {
      "cell_type": "markdown",
      "source": [
        "# **Top Paid Apps**"
      ],
      "metadata": {
        "id": "xTij3WoRDfMz"
      }
    },
    {
      "cell_type": "code",
      "source": [
        "# Filter and select the top paid apps\n",
        "top_paid_apps = df.filter(col(\"Type\") == \"Paid\").orderBy(col(\"Price\").desc())\n",
        "\n",
        "# Show the top paid apps\n",
        "top_paid_apps.show(5)"
      ],
      "metadata": {
        "colab": {
          "base_uri": "https://localhost:8080/"
        },
        "id": "ycknUpwoxePt",
        "outputId": "854201e5-d573-4cac-949e-396970a5e5d2"
      },
      "execution_count": 30,
      "outputs": [
        {
          "output_type": "stream",
          "name": "stdout",
          "text": [
            "+--------------------+---------------+------+-------+--------+----+-----+---------------+----+\n",
            "|                 App|       Category|Rating|Reviews|Installs|Type|Price|         Genres|Rank|\n",
            "+--------------------+---------------+------+-------+--------+----+-----+---------------+----+\n",
            "|        ASCCP Mobile|        MEDICAL|     4|     63|   10000|Paid|$9.99|        Medical|6597|\n",
            "|Critical Care Par...|        MEDICAL|     4|     17|    1000|Paid|$9.99|        Medical|8128|\n",
            "|        ASCCP Mobile|        MEDICAL|     4|     63|   10000|Paid|$9.99|        Medical|6597|\n",
            "|Baldur's Gate: En...|         FAMILY|     4|  20101|  100000|Paid|$9.99|   Role Playing|4949|\n",
            "|        BIG Launcher|PERSONALIZATION|     4|    881|   10000|Paid|$9.99|Personalization|6597|\n",
            "+--------------------+---------------+------+-------+--------+----+-----+---------------+----+\n",
            "only showing top 5 rows\n",
            "\n"
          ]
        }
      ]
    },
    {
      "cell_type": "markdown",
      "source": [
        "# Conclusions:\n",
        "\n",
        "1. The code finds the top paid apps in the Google Play Store dataset.\n",
        "2. It filters the DataFrame to include only the apps with the 'Type' column value equal to 'Paid'.\n",
        "3. The result shows the top paid apps sorted by their prices in descending order."
      ],
      "metadata": {
        "id": "Fpbe7tHYElQS"
      }
    },
    {
      "cell_type": "markdown",
      "source": [
        "# **Top Paid Rating Apps**"
      ],
      "metadata": {
        "id": "BAhAQ0_fDk-s"
      }
    },
    {
      "cell_type": "code",
      "source": [
        "# Convert 'Rating' column from string to float\n",
        "df = df.withColumn(\"Rating\", df[\"Rating\"].cast(FloatType()))\n",
        "\n",
        "# Filter and select the top paid rating apps\n",
        "top_paid_rating_apps = df.filter((col(\"Type\") == \"Paid\") & (col(\"Rating\").isNotNull())).orderBy(col(\"Rating\").desc())\n",
        "\n",
        "# Show the top paid rating apps\n",
        "top_paid_rating_apps.show(5)"
      ],
      "metadata": {
        "colab": {
          "base_uri": "https://localhost:8080/"
        },
        "id": "qS3_6a9WxeS4",
        "outputId": "a9f88182-90e3-47a2-de54-5ea93c90a513"
      },
      "execution_count": 34,
      "outputs": [
        {
          "output_type": "stream",
          "name": "stdout",
          "text": [
            "+--------------------+-------------------+------+-------+--------+----+-----+-----------------+----+\n",
            "|                 App|           Category|Rating|Reviews|Installs|Type|Price|           Genres|Rank|\n",
            "+--------------------+-------------------+------+-------+--------+----+-----+-----------------+----+\n",
            "|      FHR 5-Tier 2.0|            MEDICAL|   5.0|      2|     500|Paid|$2.99|          Medical|9035|\n",
            "|Hey AJ! It's Satu...|BOOKS_AND_REFERENCE|   5.0|     12|     100|Paid|$3.99|Books & Reference|9365|\n",
            "|Super Hearing Sec...|            MEDICAL|   5.0|      3|     100|Paid|$2.99|          Medical|9365|\n",
            "|        ADS-B Driver|              TOOLS|   5.0|      2|     100|Paid|$1.99|            Tools|9365|\n",
            "|     P-Home for KLWP|    PERSONALIZATION|   5.0|      4|     100|Paid|$0.99|  Personalization|9365|\n",
            "+--------------------+-------------------+------+-------+--------+----+-----+-----------------+----+\n",
            "only showing top 5 rows\n",
            "\n"
          ]
        }
      ]
    },
    {
      "cell_type": "markdown",
      "source": [
        "# Conclusions:\n",
        "\n",
        "1. The code finds the top paid rating apps in the Google Play Store dataset.\n",
        "2. It filters the DataFrame to include only the apps with the 'Type' column value equal to 'Paid' and a non-null 'Rating'.\n",
        "3. The result shows the top paid rating apps sorted by their ratings in descending order."
      ],
      "metadata": {
        "id": "so_3c2crEujN"
      }
    },
    {
      "cell_type": "code",
      "source": [],
      "metadata": {
        "id": "jxJB3IZrxeWG"
      },
      "execution_count": null,
      "outputs": []
    }
  ]
}